{
  "nbformat": 4,
  "nbformat_minor": 0,
  "metadata": {
    "colab": {
      "name": "Untitled1.ipynb",
      "provenance": [],
      "collapsed_sections": [],
      "authorship_tag": "ABX9TyN9QrSQWGQUjw5qCnz786tP",
      "include_colab_link": true
    },
    "kernelspec": {
      "name": "python3",
      "display_name": "Python 3"
    },
    "accelerator": "GPU"
  },
  "cells": [
    {
      "cell_type": "markdown",
      "metadata": {
        "id": "view-in-github",
        "colab_type": "text"
      },
      "source": [
        "<a href=\"https://colab.research.google.com/github/saeedrafieyan/SciDownl/blob/master/iris_analysis.ipynb\" target=\"_parent\"><img src=\"https://colab.research.google.com/assets/colab-badge.svg\" alt=\"Open In Colab\"/></a>"
      ]
    },
    {
      "cell_type": "code",
      "metadata": {
        "id": "TD7VUo0pTh8D"
      },
      "source": [
        "import pandas as pd\r\n",
        "import matplotlib.pyplot as plt\r\n",
        "import seaborn as sns\r\n",
        "#import missingno as msno\r\n",
        "#from sklearn.metrics import make_scorer, accuracy_score,precision_score\r\n",
        "#from sklearn.metrics import classification_report\r\n",
        "from sklearn.metrics import confusion_matrix\r\n",
        "from sklearn.metrics import accuracy_score ,precision_score,recall_score,f1_score\r\n",
        "from sklearn.model_selection import KFold,train_test_split,cross_val_score\r\n",
        "from sklearn.svm import SVC, LinearSVC\r\n",
        "from sklearn.naive_bayes import GaussianNB\r\n",
        "\r\n",
        "import keras\r\n",
        "from keras.datasets import mnist\r\n",
        "from keras.models import Model\r\n",
        "from keras.layers import Input, Dense,TimeDistributed\r\n",
        "from keras.layers import LSTM"
      ],
      "execution_count": 61,
      "outputs": []
    },
    {
      "cell_type": "code",
      "metadata": {
        "colab": {
          "base_uri": "https://localhost:8080/"
        },
        "id": "YY_uNrxOT17U",
        "outputId": "09678f28-ec3a-453e-c7f2-a58eca867582"
      },
      "source": [
        "from google.colab import drive\n",
        "drive.mount('/gdrive')\n",
        "%cd /gdrive\n"
      ],
      "execution_count": 62,
      "outputs": [
        {
          "output_type": "stream",
          "text": [
            "Drive already mounted at /gdrive; to attempt to forcibly remount, call drive.mount(\"/gdrive\", force_remount=True).\n",
            "/gdrive\n"
          ],
          "name": "stdout"
        }
      ]
    },
    {
      "cell_type": "code",
      "metadata": {
        "id": "1xi-yLIgUZrM"
      },
      "source": [
        "import pandas as pd\r\n",
        "iris = pd.read_csv('/gdrive/My Drive/dataset.csv')\r\n"
      ],
      "execution_count": 63,
      "outputs": []
    },
    {
      "cell_type": "code",
      "metadata": {
        "id": "7G_tiU7tXYb6"
      },
      "source": [
        "X=iris.iloc[:,0:4].values\r\n",
        "y=iris.iloc[:,4].values\r\n",
        "from sklearn.preprocessing import LabelEncoder\r\n",
        "le = LabelEncoder()\r\n",
        "y = le.fit_transform(y)\r\n",
        "\r\n",
        "X_train,X_test,y_train,y_test=train_test_split(X,y,test_size=0.1,random_state=0)\r\n"
      ],
      "execution_count": 64,
      "outputs": []
    },
    {
      "cell_type": "code",
      "metadata": {
        "colab": {
          "base_uri": "https://localhost:8080/"
        },
        "id": "qrPDfsblX9ld",
        "outputId": "5eeec0ac-e476-41b4-c4ca-eee08f45b2bc"
      },
      "source": [
        "# Gaussian Naive Bayes\r\n",
        "\r\n",
        "print ('*** Naive Bayes result ***')\r\n",
        "gaussian = GaussianNB()\r\n",
        "gaussian.fit(X_train, y_train)\r\n",
        "Y_pred = gaussian.predict(X_test) \r\n",
        "accuracy_nb=round(accuracy_score(y_test,Y_pred)* 100, 2)\r\n",
        "acc_gaussian = round(gaussian.score(X_train, y_train) * 100, 2)\r\n",
        "\r\n",
        "cm = confusion_matrix(y_test, Y_pred)\r\n",
        "accuracy = accuracy_score(y_test,Y_pred)\r\n",
        "precision =precision_score(y_test, Y_pred,average='micro')\r\n",
        "recall =  recall_score(y_test, Y_pred,average='micro')\r\n",
        "f1 = f1_score(y_test,Y_pred,average='micro')\r\n",
        "print('Confusion matrix for Naive Bayes\\n',cm)\r\n",
        "print('accuracy_Naive Bayes: %.3f' %accuracy)\r\n",
        "print('precision_Naive Bayes: %.3f' %precision)\r\n",
        "print('recall_Naive Bayes: %.3f' %recall)\r\n",
        "print('f1-score_Naive Bayes : %.3f' %f1)"
      ],
      "execution_count": 65,
      "outputs": [
        {
          "output_type": "stream",
          "text": [
            "*** Naive Bayes result ***\n",
            "Confusion matrix for Naive Bayes\n",
            " [[3 0 0]\n",
            " [0 8 0]\n",
            " [0 1 3]]\n",
            "accuracy_Naive Bayes: 0.933\n",
            "precision_Naive Bayes: 0.933\n",
            "recall_Naive Bayes: 0.933\n",
            "f1-score_Naive Bayes : 0.933\n"
          ],
          "name": "stdout"
        }
      ]
    },
    {
      "cell_type": "code",
      "metadata": {
        "colab": {
          "base_uri": "https://localhost:8080/"
        },
        "id": "cV2er1I3X_mX",
        "outputId": "ea8b4a0f-ccc7-481a-cf47-b01a763f6f31"
      },
      "source": [
        "# SVM\r\n",
        "\r\n",
        "print ('*** SVM result ***')\r\n",
        "linear_svc = LinearSVC(max_iter=4000)\r\n",
        "linear_svc.fit(X_train, y_train)\r\n",
        "Y_pred = linear_svc.predict(X_test)\r\n",
        "accuracy_svc=round(accuracy_score(y_test,Y_pred)* 100, 2)\r\n",
        "acc_linear_svc = round(linear_svc.score(X_train, y_train) * 100, 2)\r\n",
        "\r\n",
        "cm = confusion_matrix(y_test, Y_pred)\r\n",
        "accuracy = accuracy_score(y_test,Y_pred)\r\n",
        "precision =precision_score(y_test, Y_pred,average='micro')\r\n",
        "recall =  recall_score(y_test, Y_pred,average='micro')\r\n",
        "f1 = f1_score(y_test,Y_pred,average='micro')\r\n",
        "print('Confusion matrix for SVC\\n',cm)\r\n",
        "print('accuracy_SVC: %.3f' %accuracy)\r\n",
        "print('precision_SVC: %.3f' %precision)\r\n",
        "print('recall_SVC: %.3f' %recall)\r\n",
        "print('f1-score_SVC : %.3f' %f1)"
      ],
      "execution_count": 66,
      "outputs": [
        {
          "output_type": "stream",
          "text": [
            "*** SVM result ***\n",
            "Confusion matrix for SVC\n",
            " [[3 0 0]\n",
            " [0 8 0]\n",
            " [0 0 4]]\n",
            "accuracy_SVC: 1.000\n",
            "precision_SVC: 1.000\n",
            "recall_SVC: 1.000\n",
            "f1-score_SVC : 1.000\n"
          ],
          "name": "stdout"
        }
      ]
    },
    {
      "cell_type": "code",
      "metadata": {
        "colab": {
          "base_uri": "https://localhost:8080/"
        },
        "id": "RF8h5MmKYE5_",
        "outputId": "d4757cf5-46a7-4a7e-dffa-02a492c45bd9"
      },
      "source": [
        "#LSTM\r\n",
        "\r\n",
        "batch_size = 32\r\n",
        "num_classes = 10\r\n",
        "epochs = 5\r\n",
        "row_hidden = 128\r\n",
        "col_hidden = 128\r\n",
        "(x_train, y_train) , (x_test, y_test) = mnist.load_data()\r\n",
        "x_train = x_train.reshape(x_train.shape[0],28,28,1)\r\n",
        "x_test = x_test.reshape(x_test.shape[0],28,28,1)\r\n",
        "x_train = x_train.astype('float32')\r\n",
        "x_test = x_test.astype('float32')\r\n",
        "x_train /= 255\r\n",
        "x_test /= 255\r\n",
        "print('x_train shape:', x_train.shape)\r\n",
        "print(x_train.shape[0],'train sample')\r\n",
        "print(x_test.shape[0], 'test sample')"
      ],
      "execution_count": 67,
      "outputs": [
        {
          "output_type": "stream",
          "text": [
            "x_train shape: (60000, 28, 28, 1)\n",
            "60000 train sample\n",
            "10000 test sample\n"
          ],
          "name": "stdout"
        }
      ]
    },
    {
      "cell_type": "code",
      "metadata": {
        "id": "L9l7ngyXbgij"
      },
      "source": [
        "y_train = keras.utils.to_categorical(y_train, num_classes)\r\n",
        "y_test = keras.utils.to_categorical(y_test, num_classes)\r\n",
        "\r\n",
        "row, col, pixel = x_train.shape[1:]\r\n",
        "\r\n",
        "x = Input(shape=(row, col, pixel))"
      ],
      "execution_count": 68,
      "outputs": []
    },
    {
      "cell_type": "code",
      "metadata": {
        "id": "BZfFsVagcL07"
      },
      "source": [
        "encoded_rows = TimeDistributed(LSTM(row_hidden))(x)\r\n",
        "encoded_columns = LSTM(col_hidden)(encoded_rows)"
      ],
      "execution_count": 69,
      "outputs": []
    },
    {
      "cell_type": "code",
      "metadata": {
        "id": "_rl0tBX4co5c"
      },
      "source": [
        "prediction = Dense(num_classes,activation='softmax')(encoded_columns)\r\n",
        "model = Model(x, prediction)\r\n",
        "model.compile(loss='categorical_crossentropy',\r\n",
        "              optimizer= 'rmsprop',\r\n",
        "              metrics= ['accuracy'])"
      ],
      "execution_count": 70,
      "outputs": []
    },
    {
      "cell_type": "code",
      "metadata": {
        "colab": {
          "base_uri": "https://localhost:8080/"
        },
        "id": "rXrLKpuEdjDZ",
        "outputId": "55c14c41-0798-453e-b960-be7c88b1d749"
      },
      "source": [
        "model.fit(x_train, y_train,\r\n",
        "          batch_size=batch_size,\r\n",
        "          epochs=epochs,\r\n",
        "          verbose = 1,\r\n",
        "          validation_data = (x_test, y_test))"
      ],
      "execution_count": 71,
      "outputs": [
        {
          "output_type": "stream",
          "text": [
            "Epoch 1/5\n",
            "1875/1875 [==============================] - 23s 11ms/step - loss: 0.8525 - accuracy: 0.7032 - val_loss: 0.1275 - val_accuracy: 0.9592\n",
            "Epoch 2/5\n",
            "1875/1875 [==============================] - 20s 11ms/step - loss: 0.1206 - accuracy: 0.9626 - val_loss: 0.0825 - val_accuracy: 0.9743\n",
            "Epoch 3/5\n",
            "1875/1875 [==============================] - 20s 11ms/step - loss: 0.0783 - accuracy: 0.9766 - val_loss: 0.1258 - val_accuracy: 0.9620\n",
            "Epoch 4/5\n",
            "1875/1875 [==============================] - 20s 11ms/step - loss: 0.0604 - accuracy: 0.9808 - val_loss: 0.0519 - val_accuracy: 0.9817\n",
            "Epoch 5/5\n",
            "1875/1875 [==============================] - 20s 11ms/step - loss: 0.0497 - accuracy: 0.9850 - val_loss: 0.0555 - val_accuracy: 0.9825\n"
          ],
          "name": "stdout"
        },
        {
          "output_type": "execute_result",
          "data": {
            "text/plain": [
              "<tensorflow.python.keras.callbacks.History at 0x7f2c830af518>"
            ]
          },
          "metadata": {
            "tags": []
          },
          "execution_count": 71
        }
      ]
    },
    {
      "cell_type": "code",
      "metadata": {
        "colab": {
          "base_uri": "https://localhost:8080/"
        },
        "id": "oT8m-NEUfCTE",
        "outputId": "79bedceb-ed26-45a9-c7f8-338d73774f9f"
      },
      "source": [
        "scores = model.evaluate(x_test, y_test, verbose=0)\r\n",
        "print('test loss: ', scores[0])\r\n",
        "print('test LSTM accuracy: ', scores[1])\r\n"
      ],
      "execution_count": 72,
      "outputs": [
        {
          "output_type": "stream",
          "text": [
            "test loss:  0.05545157939195633\n",
            "test LSTM accuracy:  0.9825000166893005\n"
          ],
          "name": "stdout"
        }
      ]
    },
    {
      "cell_type": "code",
      "metadata": {
        "colab": {
          "base_uri": "https://localhost:8080/",
          "height": 497
        },
        "id": "scjCxfg3h-Y7",
        "outputId": "864f9137-4fee-4990-e710-0e4d55672ef3"
      },
      "source": [
        "results = pd.DataFrame({\r\n",
        "    'Model': [ 'Naive Bayes',  \r\n",
        "              ' Support Vector Machine',\r\n",
        "              'LSTM' \r\n",
        "              ],\r\n",
        "    'Score': [acc_gaussian,  \r\n",
        "              acc_linear_svc,\r\n",
        "              scores[1],\r\n",
        "              ],\r\n",
        "    \"Accuracy_score\":[\r\n",
        "                      accuracy_nb,\r\n",
        "                      accuracy_svc,\r\n",
        "                      scores[1]*100\r\n",
        "                     ]})\r\n",
        "result_df = results.sort_values(by='Accuracy_score', ascending=False)\r\n",
        "result_df = result_df.reset_index(drop=True)\r\n",
        "result_df.head(9)\r\n",
        "\r\n",
        "\r\n",
        "plt.subplots(figsize=(12,8))\r\n",
        "ax=sns.barplot(x='Model',y=\"Accuracy_score\",data=result_df)\r\n",
        "labels = (result_df[\"Accuracy_score\"])\r\n",
        "# add result numbers on barchart\r\n",
        "for i, v in enumerate(labels):\r\n",
        "    ax.text(i, v+1, str(v), horizontalalignment = 'center', size = 15, color = 'black')"
      ],
      "execution_count": 73,
      "outputs": [
        {
          "output_type": "display_data",
          "data": {
            "image/png": "[encoded data removed]",
            "text/plain": [
              "<Figure size 864x576 with 1 Axes>"
            ]
          },
          "metadata": {
            "tags": [],
            "needs_background": "light"
          }
        }
      ]
    }
  ]
}